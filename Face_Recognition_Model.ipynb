{
  "nbformat": 4,
  "nbformat_minor": 0,
  "metadata": {
    "colab": {
      "provenance": [],
      "gpuType": "T4"
    },
    "kernelspec": {
      "name": "python3",
      "display_name": "Python 3"
    },
    "language_info": {
      "name": "python"
    },
    "accelerator": "GPU"
  },
  "cells": [
    {
      "cell_type": "markdown",
      "source": [
        " # **Project Title**: Face Detection and Recognition Model Implementation"
      ],
      "metadata": {
        "id": "91_g5-0kIjzU"
      }
    },
    {
      "cell_type": "markdown",
      "source": [
        "## **Problem Statement**:\n",
        "Develop and integrate a face detection and recognition system using a machine learning approach. The system should accurately detect and recognize faces in images, leveraging the Labeled Faces in the Wild (LFW) dataset."
      ],
      "metadata": {
        "id": "rNC60SdqKAvh"
      }
    },
    {
      "cell_type": "code",
      "source": [
        "# Install necessary packages\n",
        "!pip install opencv-python-headless dlib scikit-learn\n",
        "\n",
        "import urllib.request\n",
        "import bz2\n",
        "import shutil\n",
        "import dlib\n",
        "import numpy as np\n",
        "import matplotlib.pyplot as plt\n",
        "from sklearn.datasets import fetch_lfw_people\n",
        "from sklearn.svm import SVC\n",
        "from sklearn.model_selection import train_test_split\n",
        "from sklearn.metrics import accuracy_score\n",
        "import cv2\n",
        "\n",
        "# Download the Dlib shape predictor and face recognition model files\n",
        "def download_dlib_models():\n",
        "    urllib.request.urlretrieve('http://dlib.net/files/shape_predictor_68_face_landmarks.dat.bz2', 'shape_predictor_68_face_landmarks.dat.bz2')\n",
        "    with bz2.BZ2File('shape_predictor_68_face_landmarks.dat.bz2') as fr, open('shape_predictor_68_face_landmarks.dat', 'wb') as fw:\n",
        "        shutil.copyfileobj(fr, fw)\n",
        "\n",
        "    urllib.request.urlretrieve('http://dlib.net/files/dlib_face_recognition_resnet_model_v1.dat.bz2', 'dlib_face_recognition_resnet_model_v1.dat.bz2')\n",
        "    with bz2.BZ2File('dlib_face_recognition_resnet_model_v1.dat.bz2') as fr, open('dlib_face_recognition_resnet_model_v1.dat', 'wb') as fw:\n",
        "        shutil.copyfileobj(fr, fw)\n",
        "\n",
        "# Download Dlib models\n",
        "download_dlib_models()\n",
        "\n",
        "# Load the LFW dataset\n",
        "lfw_people = fetch_lfw_people(min_faces_per_person=70, resize=0.5, download_if_missing=True)\n",
        "\n",
        "# Initialize Dlib's face detector and shape predictor\n",
        "detector = dlib.get_frontal_face_detector()\n",
        "sp = dlib.shape_predictor('shape_predictor_68_face_landmarks.dat')\n",
        "facerec = dlib.face_recognition_model_v1('dlib_face_recognition_resnet_model_v1.dat')\n",
        "\n",
        "# Function to detect faces\n",
        "def detect_faces(image):\n",
        "    if len(image.shape) == 3:  # If the image has 3 channels (RGB)\n",
        "        gray = cv2.cvtColor(image, cv2.COLOR_BGR2GRAY)\n",
        "    else:\n",
        "        gray = image  # Image is already in grayscale\n",
        "\n",
        "    if gray.dtype != np.uint8:\n",
        "        gray = (gray * 255).astype(np.uint8)\n",
        "\n",
        "    faces = detector(image)\n",
        "\n",
        "    for face in faces:\n",
        "        x, y, w, h = (face.left(), face.top(), face.width(), face.height())\n",
        "        cv2.rectangle(image, (x, y), (x+w, y+h), (255, 0, 0), 2)\n",
        "\n",
        "    plt.imshow(image, cmap='gray' if len(image.shape) == 2 else None)\n",
        "    plt.axis('off')\n",
        "    plt.show()\n",
        "\n",
        "# Function to extract face embeddings\n",
        "def get_face_embeddings(images, labels):\n",
        "    embeddings = []\n",
        "    valid_labels = []\n",
        "    for img, label in zip(images, labels):\n",
        "        if len(img.shape) == 2:  # If the image is grayscale\n",
        "            img = cv2.cvtColor(img, cv2.COLOR_GRAY2BGR)\n",
        "\n",
        "        if img.dtype != np.uint8:\n",
        "            img = (img * 255).astype(np.uint8)\n",
        "\n",
        "        faces = detector(img)\n",
        "        for face in faces:\n",
        "            shape = sp(img, face)\n",
        "            face_descriptor = facerec.compute_face_descriptor(img, shape)\n",
        "            embeddings.append(face_descriptor)\n",
        "            valid_labels.append(label)\n",
        "    return np.array(embeddings), np.array(valid_labels)\n",
        "\n",
        "# Extract face embeddings and labels\n",
        "embeddings, labels = get_face_embeddings(lfw_people.images, lfw_people.target)\n",
        "\n",
        "# Train a classifier\n",
        "X_train, X_test, y_train, y_test = train_test_split(embeddings, labels, test_size=0.3, random_state=42)\n",
        "\n",
        "# Use a more complex classifier and tune hyperparameters\n",
        "clf = SVC(kernel='linear', C=1.0, probability=True)\n",
        "clf.fit(X_train, y_train)\n",
        "\n",
        "# Evaluate the model\n",
        "y_pred = clf.predict(X_test)\n",
        "accuracy = accuracy_score(y_test, y_pred)\n",
        "print(f\"Model Accuracy: {accuracy:.2f}\")\n",
        "\n",
        "# Function for face recognition\n",
        "def recognize_faces(image, model):\n",
        "    if len(image.shape) == 2:  # If the image is grayscale\n",
        "        image = cv2.cvtColor(image, cv2.COLOR_GRAY2BGR)\n",
        "\n",
        "    if image.dtype != np.uint8:\n",
        "        image = (image * 255).astype(np.uint8)\n",
        "\n",
        "    faces = detector(image)\n",
        "    for face in faces:\n",
        "        shape = sp(image, face)\n",
        "        face_descriptor = facerec.compute_face_descriptor(image, shape)\n",
        "        face_descriptor = np.array(face_descriptor).reshape(1, -1)\n",
        "\n",
        "        identity = model.predict(face_descriptor)\n",
        "\n",
        "        x, y, w, h = (face.left(), face.top(), face.width(), face.height())\n",
        "        cv2.rectangle(image, (x, y), (x+w, y+h), (0, 255, 0), 2)\n",
        "        cv2.putText(image, lfw_people.target_names[identity[0]], (x, y-10), cv2.FONT_HERSHEY_SIMPLEX, 0.9, (36, 255, 12), 2)\n",
        "\n",
        "    plt.imshow(image, cmap='gray' if len(image.shape) == 2 else None)\n",
        "    plt.axis('off')\n",
        "    plt.show()\n",
        "\n",
        "# Example usage\n",
        "recognize_faces(lfw_people.images[1], clf)\n"
      ],
      "metadata": {
        "colab": {
          "base_uri": "https://localhost:8080/",
          "height": 545
        },
        "id": "E4dSIWbeDzSa",
        "outputId": "900e6208-a540-4dd1-f9cb-f91cf38adc3f"
      },
      "execution_count": 5,
      "outputs": [
        {
          "output_type": "stream",
          "name": "stdout",
          "text": [
            "Requirement already satisfied: opencv-python-headless in /usr/local/lib/python3.10/dist-packages (4.10.0.84)\n",
            "Requirement already satisfied: dlib in /usr/local/lib/python3.10/dist-packages (19.24.2)\n",
            "Requirement already satisfied: scikit-learn in /usr/local/lib/python3.10/dist-packages (1.3.2)\n",
            "Requirement already satisfied: numpy>=1.21.2 in /usr/local/lib/python3.10/dist-packages (from opencv-python-headless) (1.26.4)\n",
            "Requirement already satisfied: scipy>=1.5.0 in /usr/local/lib/python3.10/dist-packages (from scikit-learn) (1.13.1)\n",
            "Requirement already satisfied: joblib>=1.1.1 in /usr/local/lib/python3.10/dist-packages (from scikit-learn) (1.4.2)\n",
            "Requirement already satisfied: threadpoolctl>=2.0.0 in /usr/local/lib/python3.10/dist-packages (from scikit-learn) (3.5.0)\n",
            "Model Accuracy: 0.64\n"
          ]
        },
        {
          "output_type": "display_data",
          "data": {
            "text/plain": [
              "<Figure size 640x480 with 1 Axes>"
            ],
            "image/png": "[encoded data removed]"
          },
          "metadata": {}
        }
      ]
    }
  ]
}